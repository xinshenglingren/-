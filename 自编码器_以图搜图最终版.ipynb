{
 "cells": [
  {
   "cell_type": "code",
   "execution_count": 1,
   "metadata": {},
   "outputs": [],
   "source": [
    "import numpy as np\n",
    "import torch\n",
    "from torch import nn\n",
    "from torch.utils.data import Dataset, DataLoader\n",
    "from torchvision import transforms\n",
    "from torchvision import datasets, transforms\n",
    "from PIL import Image\n",
    "%matplotlib inline\n",
    "import matplotlib.pyplot as plt"
   ]
  },
  {
   "cell_type": "code",
   "execution_count": 2,
   "metadata": {},
   "outputs": [],
   "source": [
    "class AutoEncoder(nn.Module):\n",
    "    def __init__(self):\n",
    "        super(AutoEncoder, self).__init__()\n",
    "        self.en_conv = nn.Sequential(\n",
    "            nn.Conv2d(1, 16, 4, 2, 1),\n",
    "            nn.BatchNorm2d(16),\n",
    "            nn.Tanh(),\n",
    "            \n",
    "            nn.Conv2d(16, 32, 4, 2, 1),\n",
    "            nn.BatchNorm2d(32),\n",
    "            nn.Tanh(),\n",
    "            \n",
    "            nn.Conv2d(32, 16, 3, 1, 1),\n",
    "            nn.BatchNorm2d(16),\n",
    "            nn.Tanh()\n",
    "        )\n",
    "        self.en_fc = nn.Linear(16*7*7, 10)\n",
    "        self.de_fc = nn.Linear(10, 16*7*7)\n",
    "        self.de_conv = nn.Sequential(\n",
    "            nn.ConvTranspose2d(16, 16, 4, 2, 1),\n",
    "            nn.BatchNorm2d(16),\n",
    "            nn.Tanh(),\n",
    "            nn.ConvTranspose2d(16, 1, 4, 2, 1),\n",
    "            nn.Sigmoid()\n",
    "        )\n",
    "\n",
    "    def forward(self, x):\n",
    "        en = self.en_conv(x)\n",
    "        code = self.en_fc(en.view(en.size(0), -1))\n",
    "        de = self.de_fc(code)\n",
    "        decoded = self.de_conv(de.view(de.size(0), 16, 7, 7))\n",
    "        return code, decoded"
   ]
  },
  {
   "cell_type": "code",
   "execution_count": 3,
   "metadata": {},
   "outputs": [],
   "source": [
    "dataset = datasets.MNIST(root='F:\\\\大三下课程\\\\深度学习\\\\第六次作业\\\\MNIST',\n",
    "                               train=True,\n",
    "                               transform=transforms.ToTensor(),\n",
    "                               download=False)\n",
    "\n",
    "train_loader = torch.utils.data.DataLoader(dataset,batch_size=1,shuffle=False)\n",
    "\n",
    "auto_encoder = AutoEncoder()\n",
    "auto_encoder.load_state_dict(torch.load('params'))"
   ]
  },
  {
   "cell_type": "code",
   "execution_count": 4,
   "metadata": {},
   "outputs": [],
   "source": [
    "i=0\n",
    "imgsss=[]\n",
    "for img, l in train_loader:\n",
    "    imgsss.append(img)\n",
    "    \n",
    "def search_img(idx, topN=10):\n",
    "    num = 0\n",
    "    imgs = []\n",
    "    score = []\n",
    "    \n",
    "    for img in imgsss:\n",
    "        code, _ = auto_encoder(img)\n",
    "        code = code.to(torch.uint8).numpy()\n",
    "        img = img.reshape(-1) * 1.\n",
    "        imgs.append(img)\n",
    "        num += 1\n",
    "        if num % 1000 == 0:\n",
    "            print(num)\n",
    "        \n",
    "    tar = imgs[idx]\n",
    "    \n",
    "    for i in range(num):\n",
    "        score.append(sum(imgs[i] * tar).item())\n",
    "    \n",
    "    score = np.array(score)\n",
    "    score = np.argsort(-score)\n",
    "    return score[:10]"
   ]
  },
  {
   "cell_type": "code",
   "execution_count": 8,
   "metadata": {},
   "outputs": [
    {
     "name": "stdout",
     "output_type": "stream",
     "text": [
      "1000\n",
      "2000\n",
      "3000\n",
      "4000\n",
      "5000\n",
      "6000\n",
      "7000\n",
      "8000\n",
      "9000\n",
      "10000\n",
      "11000\n",
      "12000\n",
      "13000\n",
      "14000\n",
      "15000\n",
      "16000\n",
      "17000\n",
      "18000\n",
      "19000\n",
      "20000\n",
      "21000\n",
      "22000\n",
      "23000\n",
      "24000\n",
      "25000\n",
      "26000\n",
      "27000\n",
      "28000\n",
      "29000\n",
      "30000\n",
      "31000\n",
      "32000\n",
      "33000\n",
      "34000\n",
      "35000\n",
      "36000\n",
      "37000\n",
      "38000\n",
      "39000\n",
      "40000\n",
      "41000\n",
      "42000\n",
      "43000\n",
      "44000\n",
      "45000\n",
      "46000\n",
      "47000\n",
      "48000\n",
      "49000\n",
      "50000\n",
      "51000\n",
      "52000\n",
      "53000\n",
      "54000\n",
      "55000\n",
      "56000\n",
      "57000\n",
      "58000\n",
      "59000\n",
      "60000\n"
     ]
    }
   ],
   "source": [
    "idx = 2\n",
    "num = 10\n",
    "gain = search_img(idx, topN=num)"
   ]
  },
  {
   "cell_type": "code",
   "execution_count": 9,
   "metadata": {},
   "outputs": [
    {
     "data": {
      "text/plain": [
       "<matplotlib.image.AxesImage at 0x2162a7f7da0>"
      ]
     },
     "execution_count": 9,
     "metadata": {},
     "output_type": "execute_result"
    },
    {
     "data": {
      "image/png": "[encoded data removed]",
      "text/plain": [
       "<Figure size 432x288 with 1 Axes>"
      ]
     },
     "metadata": {
      "needs_background": "light"
     },
     "output_type": "display_data"
    }
   ],
   "source": [
    "# 可视化原图\n",
    "target = imgsss[idx]*255.\n",
    "plt.imshow(target.view([28, 28]).to(torch.uint8).numpy())"
   ]
  },
  {
   "cell_type": "code",
   "execution_count": 10,
   "metadata": {},
   "outputs": [
    {
     "data": {
      "image/png": "[encoded data removed]",
      "text/plain": [
       "<Figure size 432x288 with 10 Axes>"
      ]
     },
     "metadata": {
      "needs_background": "light"
     },
     "output_type": "display_data"
    }
   ],
   "source": [
    "# 可视化搜索结果\n",
    "for i in range(num):\n",
    "    plt.subplot(2, 5, i+1)\n",
    "    plt.imshow(((imgsss[gain[i]])*255.).view([28, 28]).to(torch.uint8).numpy())"
   ]
  }
 ],
 "metadata": {
  "kernelspec": {
   "display_name": "Python 3",
   "language": "python",
   "name": "python3"
  },
  "language_info": {
   "codemirror_mode": {
    "name": "ipython",
    "version": 3
   },
   "file_extension": ".py",
   "mimetype": "text/x-python",
   "name": "python",
   "nbconvert_exporter": "python",
   "pygments_lexer": "ipython3",
   "version": "3.6.4"
  }
 },
 "nbformat": 4,
 "nbformat_minor": 2
}

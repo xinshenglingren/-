{
 "cells": [
  {
   "cell_type": "code",
   "execution_count": 1,
   "metadata": {},
   "outputs": [],
   "source": [
    "import torch\n",
    "from torch.utils.data import Dataset, DataLoader\n",
    "import numpy as np\n",
    "from torchvision import transforms\n",
    "import gzip\n",
    "from PIL import Image\n",
    "from torch import nn\n",
    "import matplotlib.pyplot as plt"
   ]
  },
  {
   "cell_type": "code",
   "execution_count": 2,
   "metadata": {},
   "outputs": [],
   "source": [
    "root_path = './MNIST/MNIST/raw/train-images-idx3-ubyte.gz'"
   ]
  },
  {
   "cell_type": "code",
   "execution_count": 3,
   "metadata": {},
   "outputs": [],
   "source": [
    "class MNIST(Dataset):\n",
    "    def __init__(self, root_path):\n",
    "        with gzip.open(root_path, 'rb') as f:\n",
    "            train_data = np.frombuffer(f.read(), np.uint8, offset=16).reshape(-1, 28, 28)\n",
    "        self.train = np.reshape(train_data, (-1, 1, 28, 28))\n",
    "        \n",
    "    def __getitem__(self, index):\n",
    "        image = self.train[index]\n",
    "        image = torch.from_numpy(image).to(torch.float32)\n",
    "        return image\n",
    "    \n",
    "    def __len__(self):\n",
    "        return len(self.train)\n",
    "        "
   ]
  },
  {
   "cell_type": "code",
   "execution_count": 4,
   "metadata": {},
   "outputs": [],
   "source": [
    "class AutoEncoder(nn.Module):\n",
    "    def __init__(self):\n",
    "        super(AutoEncoder, self).__init__()\n",
    "\n",
    "        self.en_conv = nn.Sequential(\n",
    "            nn.Conv2d(1, 16, 4, 2, 1),\n",
    "            nn.BatchNorm2d(16),\n",
    "            nn.Tanh(),\n",
    "            nn.Conv2d(16, 32, 4, 2, 1),\n",
    "            nn.BatchNorm2d(32),\n",
    "            nn.Tanh(),\n",
    "            nn.Conv2d(32, 16, 3, 1, 1),\n",
    "            nn.BatchNorm2d(16),\n",
    "            nn.Tanh()\n",
    "        )\n",
    "        self.en_fc = nn.Linear(16*7*7, 10)\n",
    "        self.de_fc = nn.Linear(10, 16*7*7)\n",
    "        self.de_conv = nn.Sequential(\n",
    "            nn.ConvTranspose2d(16, 16, 4, 2, 1),\n",
    "            nn.BatchNorm2d(16),\n",
    "            nn.Tanh(),\n",
    "            nn.ConvTranspose2d(16, 1, 4, 2, 1),\n",
    "            nn.Sigmoid()\n",
    "        )\n",
    "\n",
    "    def forward(self, x):\n",
    "        en = self.en_conv(x)\n",
    "        code = self.en_fc(en.view(en.size(0), -1))\n",
    "        de = self.de_fc(code)\n",
    "        decoded = self.de_conv(de.view(de.size(0), 16, 7, 7))\n",
    "        return code, decoded"
   ]
  },
  {
   "cell_type": "code",
   "execution_count": 5,
   "metadata": {},
   "outputs": [],
   "source": [
    "dataset = MNIST(root_path)\n",
    "train_loader = DataLoader(dataset, batch_size=16, shuffle=False)\n",
    "auto_encoder = AutoEncoder()\n",
    "auto_encoder.load_state_dict(torch.load('data_a3'))\n",
    "# auto_encoder.cuda()\n",
    "\n",
    "for i in train_loader:\n",
    "    image = i\n",
    "    break\n",
    "f_encode, f_decode = auto_encoder(image)\n",
    "f_images = f_encode.to(torch.uint8).numpy()\n",
    "\n",
    "fs = f_images.reshape(f_images.shape[0], -1)\n",
    "target = fs[10]\n"
   ]
  },
  {
   "cell_type": "code",
   "execution_count": 6,
   "metadata": {},
   "outputs": [],
   "source": [
    "#将目标矩阵变为浮点数\n",
    "target1 = target * 1.0"
   ]
  },
  {
   "cell_type": "code",
   "execution_count": 7,
   "metadata": {},
   "outputs": [],
   "source": [
    "#此处通过欧式距离计算相似度，\n",
    "#target_id为需要搜索的图的索引，id_score里存放搜索出最相近的10张图的索引以及对应的相似度\n",
    "id_score = {}\n",
    "N = 10\n",
    "i = 0\n",
    "target_id = 10\n",
    "for images in train_loader:\n",
    "#     images = images.cuda()\n",
    "    encode, decode = auto_encoder(images)\n",
    "    f_images = (encode).to(torch.uint8).numpy()\n",
    "    feathers = f_images.reshape(f_images.shape[0], -1)\n",
    "    for f in feathers:\n",
    "        ls = np.mat(f - target) \n",
    "        d = (ls * ls.T)[0, 0]\n",
    "        if i != target_id:\n",
    "            if len(id_score) < N:\n",
    "                id_score[i] = d\n",
    "\n",
    "            else:\n",
    "                if d < max(id_score.values()):\n",
    "                    max_id = [ind for ind, score in id_score.items() if score == max(id_score.values())][0]\n",
    "                    del id_score[max_id]\n",
    "                    id_score[i] = d\n",
    "            i += 1\n",
    "        else:\n",
    "            i += 1"
   ]
  },
  {
   "cell_type": "code",
   "execution_count": 8,
   "metadata": {},
   "outputs": [
    {
     "data": {
      "text/plain": [
       "<matplotlib.image.AxesImage at 0x7f84e057d8d0>"
      ]
     },
     "execution_count": 8,
     "metadata": {},
     "output_type": "execute_result"
    },
    {
     "data": {
      "image/png": "[encoded data removed]",
      "text/plain": [
       "<Figure size 432x288 with 1 Axes>"
      ]
     },
     "metadata": {
      "needs_background": "light"
     },
     "output_type": "display_data"
    }
   ],
   "source": [
    "#可视化原图\n",
    "old_target = dataset[target_id]\n",
    "plt.imshow((old_target).view([28, 28]).to(torch.uint8).numpy(), cmap='gray')"
   ]
  },
  {
   "cell_type": "code",
   "execution_count": 9,
   "metadata": {},
   "outputs": [
    {
     "data": {
      "image/png": "[encoded data removed]",
      "text/plain": [
       "<Figure size 432x288 with 10 Axes>"
      ]
     },
     "metadata": {
      "needs_background": "light"
     },
     "output_type": "display_data"
    }
   ],
   "source": [
    "#可视化搜索出的10张相似的图\n",
    "same_pic = list(id_score.keys())\n",
    "\n",
    "for i in range(10):\n",
    "    plt.subplot(2, 5, i+1)\n",
    "    if i < 5:\n",
    "        plt.imshow(dataset[same_pic[i]].view([28, 28]).to(torch.uint8).numpy(), cmap='gray')\n",
    "    else:\n",
    "        plt.imshow(dataset[same_pic[i]].view([28, 28]).to(torch.uint8).numpy(), cmap='gray')"
   ]
  },
  {
   "cell_type": "code",
   "execution_count": null,
   "metadata": {},
   "outputs": [],
   "source": []
  }
 ],
 "metadata": {
  "kernelspec": {
   "display_name": "Python 3",
   "language": "python",
   "name": "python3"
  },
  "language_info": {
   "codemirror_mode": {
    "name": "ipython",
    "version": 3
   },
   "file_extension": ".py",
   "mimetype": "text/x-python",
   "name": "python",
   "nbconvert_exporter": "python",
   "pygments_lexer": "ipython3",
   "version": "3.6.4"
  }
 },
 "nbformat": 4,
 "nbformat_minor": 2
}

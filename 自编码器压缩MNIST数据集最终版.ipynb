{
 "cells": [
  {
   "cell_type": "code",
   "execution_count": 1,
   "metadata": {},
   "outputs": [],
   "source": [
    "import torch\n",
    "from torch import nn\n",
    "from torch.utils.data import DataLoader, Dataset\n",
    "from torchvision import datasets, transforms\n",
    "import torchvision as tv\n",
    "from PIL import Image\n",
    "%matplotlib inline\n",
    "import matplotlib.pyplot as plt"
   ]
  },
  {
   "cell_type": "code",
   "execution_count": 2,
   "metadata": {},
   "outputs": [],
   "source": [
    "class AutoEncoder(nn.Module):\n",
    "    def __init__(self):\n",
    "        super(AutoEncoder, self).__init__()\n",
    "        self.en_conv = nn.Sequential(\n",
    "            nn.Conv2d(1, 16, 4, 2, 1),\n",
    "            nn.BatchNorm2d(16),\n",
    "            nn.Tanh(),\n",
    "            \n",
    "            nn.Conv2d(16, 32, 4, 2, 1),\n",
    "            nn.BatchNorm2d(32),\n",
    "            nn.Tanh(),\n",
    "            \n",
    "            nn.Conv2d(32, 16, 3, 1, 1),\n",
    "            nn.BatchNorm2d(16),\n",
    "            nn.Tanh()\n",
    "        )\n",
    "        self.en_fc = nn.Linear(16*7*7, 10)\n",
    "        self.de_fc = nn.Linear(10, 16*7*7)\n",
    "        self.de_conv = nn.Sequential(\n",
    "            nn.ConvTranspose2d(16, 16, 4, 2, 1),\n",
    "            nn.BatchNorm2d(16),\n",
    "            nn.Tanh(),\n",
    "            nn.ConvTranspose2d(16, 1, 4, 2, 1),\n",
    "            nn.Sigmoid()\n",
    "        )\n",
    "\n",
    "    def forward(self, x):\n",
    "        en = self.en_conv(x)\n",
    "        code = self.en_fc(en.view(en.size(0), -1))\n",
    "        de = self.de_fc(code)\n",
    "        decoded = self.de_conv(de.view(de.size(0), 16, 7, 7))\n",
    "        return code, decoded"
   ]
  },
  {
   "cell_type": "code",
   "execution_count": 3,
   "metadata": {},
   "outputs": [
    {
     "data": {
      "text/plain": [
       "torch.Size([60000, 28, 28])"
      ]
     },
     "execution_count": 3,
     "metadata": {},
     "output_type": "execute_result"
    }
   ],
   "source": [
    "lr = 1e-3\n",
    "batch_size = 64\n",
    "train_dataset = tv.datasets.MNIST(root='F:\\\\大三下课程\\\\深度学习\\\\第六次作业\\\\MNIST',\n",
    "                               train=True,\n",
    "                               transform=transforms.ToTensor(),\n",
    "                               download=False)\n",
    "\n",
    "test_dataset = tv.datasets.MNIST(root='F:\\\\大三下课程\\\\深度学习\\\\第六次作业\\\\MNIST',\n",
    "                              train=False,\n",
    "                              transform=transforms.ToTensor())\n",
    "train_loader = torch.utils.data.DataLoader(dataset=train_dataset,\n",
    "                                           batch_size=batch_size,\n",
    "                                           shuffle=True)\n",
    "\n",
    "test_loader = torch.utils.data.DataLoader(dataset=test_dataset,\n",
    "                                          batch_size=batch_size,\n",
    "                                          shuffle=False)\n",
    "\n",
    "auto_encoder = AutoEncoder()\n",
    "optim = torch.optim.Adam(auto_encoder.parameters(), lr=lr)\n",
    "loss_fn = nn.MSELoss()\n",
    "train_dataset.data.shape"
   ]
  },
  {
   "cell_type": "code",
   "execution_count": 4,
   "metadata": {},
   "outputs": [
    {
     "name": "stdout",
     "output_type": "stream",
     "text": [
      "epoch:1, loss:0.0272\n",
      "epoch:2, loss:0.0246\n",
      "epoch:3, loss:0.0241\n",
      "epoch:4, loss:0.0150\n",
      "epoch:5, loss:0.0157\n",
      "epoch:6, loss:0.0160\n",
      "epoch:7, loss:0.0164\n",
      "epoch:8, loss:0.0171\n",
      "epoch:9, loss:0.0172\n",
      "epoch:10, loss:0.0175\n",
      "epoch:11, loss:0.0151\n",
      "epoch:12, loss:0.0148\n",
      "epoch:13, loss:0.0178\n",
      "epoch:14, loss:0.0174\n",
      "epoch:15, loss:0.0176\n",
      "epoch:16, loss:0.0168\n",
      "epoch:17, loss:0.0169\n",
      "epoch:18, loss:0.0176\n",
      "epoch:19, loss:0.0142\n",
      "epoch:20, loss:0.0157\n"
     ]
    }
   ],
   "source": [
    "epoch = 20\n",
    "\n",
    "for i in range(epoch):\n",
    "    for batch_images, labels in train_loader:\n",
    "        code, output = auto_encoder(batch_images)\n",
    "        loss = loss_fn(output, batch_images)\n",
    "        optim.zero_grad()\n",
    "        loss.backward()\n",
    "        optim.step()\n",
    "        \n",
    "    print('epoch:%d, loss:%6.4f' %(i+1, loss.item()))"
   ]
  },
  {
   "cell_type": "code",
   "execution_count": 5,
   "metadata": {},
   "outputs": [
    {
     "data": {
      "text/plain": [
       "torch.Size([64, 1, 28, 28])"
      ]
     },
     "execution_count": 5,
     "metadata": {},
     "output_type": "execute_result"
    }
   ],
   "source": [
    "#可视化效果\n",
    "for i,j in train_loader:\n",
    "    batch_images = i\n",
    "    break\n",
    "code, batch_output = auto_encoder(batch_images)\n",
    "batch_output.shape"
   ]
  },
  {
   "cell_type": "code",
   "execution_count": 6,
   "metadata": {},
   "outputs": [
    {
     "data": {
      "image/png": "[encoded data removed]",
      "text/plain": [
       "<Figure size 432x288 with 10 Axes>"
      ]
     },
     "metadata": {
      "needs_background": "light"
     },
     "output_type": "display_data"
    }
   ],
   "source": [
    "#可视化效果，第一行为原图，第二行为压缩后的图\n",
    "import numpy as np\n",
    "for i in range(10):\n",
    "    plt.subplot(2, 5, i + 1)\n",
    "    if i < 5:\n",
    "        plt.imshow((batch_images[i] *255).view([28, 28]).to(torch.uint8).numpy(), cmap='gray')\n",
    "    else:\n",
    "        plt.imshow((batch_output[i - 5] *255).view([28, 28]).to(torch.uint8).numpy(), cmap='gray')"
   ]
  },
  {
   "cell_type": "code",
   "execution_count": 7,
   "metadata": {},
   "outputs": [],
   "source": [
    "# 保存模型参数\n",
    "torch.save(auto_encoder.state_dict(), 'params')"
   ]
  }
 ],
 "metadata": {
  "kernelspec": {
   "display_name": "Python 3",
   "language": "python",
   "name": "python3"
  },
  "language_info": {
   "codemirror_mode": {
    "name": "ipython",
    "version": 3
   },
   "file_extension": ".py",
   "mimetype": "text/x-python",
   "name": "python",
   "nbconvert_exporter": "python",
   "pygments_lexer": "ipython3",
   "version": "3.6.4"
  }
 },
 "nbformat": 4,
 "nbformat_minor": 2
}
